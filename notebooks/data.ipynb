{
 "cells": [
  {
   "cell_type": "code",
   "execution_count": 1,
   "metadata": {},
   "outputs": [],
   "source": [
    "import sys\n",
    "\n",
    "sys.path.insert(0, \"..\")"
   ]
  },
  {
   "cell_type": "code",
   "execution_count": 2,
   "metadata": {},
   "outputs": [
    {
     "name": "stderr",
     "output_type": "stream",
     "text": [
      "/tmp/ipykernel_15629/4070652440.py:1: DeprecationWarning: \n",
      "Pyarrow will become a required dependency of pandas in the next major release of pandas (pandas 3.0),\n",
      "(to allow more performant data types, such as the Arrow string type, and better interoperability with other libraries)\n",
      "but was not found to be installed on your system.\n",
      "If this would cause problems for you,\n",
      "please provide us feedback at https://github.com/pandas-dev/pandas/issues/54466\n",
      "        \n",
      "  import pandas as pd\n"
     ]
    }
   ],
   "source": [
    "import pandas as pd\n",
    "import numpy as np\n",
    "import torch\n",
    "import logging\n",
    "import itertools\n",
    "import argparse\n",
    "from data_util import GraphData, HeteroData, z_norm, create_hetero_obj\n",
    "\n",
    "import json"
   ]
  },
  {
   "cell_type": "code",
   "execution_count": 3,
   "metadata": {},
   "outputs": [],
   "source": [
    "with open('../data_config.json', 'r') as config_file:\n",
    "    data_config = json.load(config_file)\n",
    "\n",
    "# Access values of widgets\n",
    "args = argparse.Namespace(\n",
    "    data='Small_HI',\n",
    "    ports=False,\n",
    "    tds=False,\n",
    "    model='gin',\n",
    "    reverse_mp=False,\n",
    "    num_neighs=[100,100],\n",
    "    batch_size=8192\n",
    ")"
   ]
  },
  {
   "cell_type": "code",
   "execution_count": 4,
   "metadata": {},
   "outputs": [],
   "source": [
    "transaction_file = f\"{data_config['paths']['aml_data']}/{args.data}/formatted_transactions.csv\" #replace this with your path to the respective AML data objects"
   ]
  },
  {
   "cell_type": "code",
   "execution_count": 5,
   "metadata": {},
   "outputs": [],
   "source": [
    "df_edges = pd.read_csv(transaction_file)"
   ]
  },
  {
   "cell_type": "code",
   "execution_count": 6,
   "metadata": {},
   "outputs": [
    {
     "name": "stdout",
     "output_type": "stream",
     "text": [
      "Available Edge Features: ['EdgeID', 'from_id', 'to_id', 'Timestamp', 'Amount Sent', 'Sent Currency', 'Amount Received', 'Received Currency', 'Payment Format', 'Is Laundering']\n"
     ]
    },
    {
     "data": {
      "text/html": [
       "<div>\n",
       "<style scoped>\n",
       "    .dataframe tbody tr th:only-of-type {\n",
       "        vertical-align: middle;\n",
       "    }\n",
       "\n",
       "    .dataframe tbody tr th {\n",
       "        vertical-align: top;\n",
       "    }\n",
       "\n",
       "    .dataframe thead th {\n",
       "        text-align: right;\n",
       "    }\n",
       "</style>\n",
       "<table border=\"1\" class=\"dataframe\">\n",
       "  <thead>\n",
       "    <tr style=\"text-align: right;\">\n",
       "      <th></th>\n",
       "      <th>EdgeID</th>\n",
       "      <th>from_id</th>\n",
       "      <th>to_id</th>\n",
       "      <th>Timestamp</th>\n",
       "      <th>Amount Sent</th>\n",
       "      <th>Sent Currency</th>\n",
       "      <th>Amount Received</th>\n",
       "      <th>Received Currency</th>\n",
       "      <th>Payment Format</th>\n",
       "      <th>Is Laundering</th>\n",
       "    </tr>\n",
       "  </thead>\n",
       "  <tbody>\n",
       "    <tr>\n",
       "      <th>0</th>\n",
       "      <td>2</td>\n",
       "      <td>3</td>\n",
       "      <td>3</td>\n",
       "      <td>10</td>\n",
       "      <td>14675.57</td>\n",
       "      <td>0</td>\n",
       "      <td>14675.57</td>\n",
       "      <td>0</td>\n",
       "      <td>0</td>\n",
       "      <td>0</td>\n",
       "    </tr>\n",
       "    <tr>\n",
       "      <th>1</th>\n",
       "      <td>17</td>\n",
       "      <td>24</td>\n",
       "      <td>24</td>\n",
       "      <td>10</td>\n",
       "      <td>897.37</td>\n",
       "      <td>0</td>\n",
       "      <td>897.37</td>\n",
       "      <td>0</td>\n",
       "      <td>0</td>\n",
       "      <td>0</td>\n",
       "    </tr>\n",
       "    <tr>\n",
       "      <th>2</th>\n",
       "      <td>158</td>\n",
       "      <td>163</td>\n",
       "      <td>163</td>\n",
       "      <td>10</td>\n",
       "      <td>99986.94</td>\n",
       "      <td>0</td>\n",
       "      <td>99986.94</td>\n",
       "      <td>0</td>\n",
       "      <td>0</td>\n",
       "      <td>0</td>\n",
       "    </tr>\n",
       "    <tr>\n",
       "      <th>3</th>\n",
       "      <td>218</td>\n",
       "      <td>215</td>\n",
       "      <td>215</td>\n",
       "      <td>10</td>\n",
       "      <td>16.08</td>\n",
       "      <td>0</td>\n",
       "      <td>16.08</td>\n",
       "      <td>0</td>\n",
       "      <td>0</td>\n",
       "      <td>0</td>\n",
       "    </tr>\n",
       "    <tr>\n",
       "      <th>4</th>\n",
       "      <td>281</td>\n",
       "      <td>265</td>\n",
       "      <td>265</td>\n",
       "      <td>10</td>\n",
       "      <td>10.30</td>\n",
       "      <td>0</td>\n",
       "      <td>10.30</td>\n",
       "      <td>0</td>\n",
       "      <td>0</td>\n",
       "      <td>0</td>\n",
       "    </tr>\n",
       "    <tr>\n",
       "      <th>...</th>\n",
       "      <td>...</td>\n",
       "      <td>...</td>\n",
       "      <td>...</td>\n",
       "      <td>...</td>\n",
       "      <td>...</td>\n",
       "      <td>...</td>\n",
       "      <td>...</td>\n",
       "      <td>...</td>\n",
       "      <td>...</td>\n",
       "      <td>...</td>\n",
       "    </tr>\n",
       "    <tr>\n",
       "      <th>5078340</th>\n",
       "      <td>4962230</td>\n",
       "      <td>71717</td>\n",
       "      <td>20395</td>\n",
       "      <td>1504930</td>\n",
       "      <td>3749.14</td>\n",
       "      <td>0</td>\n",
       "      <td>3749.14</td>\n",
       "      <td>0</td>\n",
       "      <td>3</td>\n",
       "      <td>1</td>\n",
       "    </tr>\n",
       "    <tr>\n",
       "      <th>5078341</th>\n",
       "      <td>4962231</td>\n",
       "      <td>71717</td>\n",
       "      <td>71717</td>\n",
       "      <td>1509490</td>\n",
       "      <td>2091.95</td>\n",
       "      <td>0</td>\n",
       "      <td>1785.27</td>\n",
       "      <td>2</td>\n",
       "      <td>3</td>\n",
       "      <td>0</td>\n",
       "    </tr>\n",
       "    <tr>\n",
       "      <th>5078342</th>\n",
       "      <td>4962232</td>\n",
       "      <td>71717</td>\n",
       "      <td>131619</td>\n",
       "      <td>1509490</td>\n",
       "      <td>1785.27</td>\n",
       "      <td>2</td>\n",
       "      <td>1785.27</td>\n",
       "      <td>2</td>\n",
       "      <td>3</td>\n",
       "      <td>1</td>\n",
       "    </tr>\n",
       "    <tr>\n",
       "      <th>5078343</th>\n",
       "      <td>4962233</td>\n",
       "      <td>71717</td>\n",
       "      <td>273443</td>\n",
       "      <td>1515490</td>\n",
       "      <td>2154.54</td>\n",
       "      <td>0</td>\n",
       "      <td>2154.54</td>\n",
       "      <td>0</td>\n",
       "      <td>3</td>\n",
       "      <td>1</td>\n",
       "    </tr>\n",
       "    <tr>\n",
       "      <th>5078344</th>\n",
       "      <td>4962234</td>\n",
       "      <td>71717</td>\n",
       "      <td>49001</td>\n",
       "      <td>1527490</td>\n",
       "      <td>5448.55</td>\n",
       "      <td>0</td>\n",
       "      <td>5448.55</td>\n",
       "      <td>0</td>\n",
       "      <td>3</td>\n",
       "      <td>1</td>\n",
       "    </tr>\n",
       "  </tbody>\n",
       "</table>\n",
       "<p>5078345 rows × 10 columns</p>\n",
       "</div>"
      ],
      "text/plain": [
       "          EdgeID  from_id   to_id  Timestamp  Amount Sent  Sent Currency  \\\n",
       "0              2        3       3         10     14675.57              0   \n",
       "1             17       24      24         10       897.37              0   \n",
       "2            158      163     163         10     99986.94              0   \n",
       "3            218      215     215         10        16.08              0   \n",
       "4            281      265     265         10        10.30              0   \n",
       "...          ...      ...     ...        ...          ...            ...   \n",
       "5078340  4962230    71717   20395    1504930      3749.14              0   \n",
       "5078341  4962231    71717   71717    1509490      2091.95              0   \n",
       "5078342  4962232    71717  131619    1509490      1785.27              2   \n",
       "5078343  4962233    71717  273443    1515490      2154.54              0   \n",
       "5078344  4962234    71717   49001    1527490      5448.55              0   \n",
       "\n",
       "         Amount Received  Received Currency  Payment Format  Is Laundering  \n",
       "0               14675.57                  0               0              0  \n",
       "1                 897.37                  0               0              0  \n",
       "2               99986.94                  0               0              0  \n",
       "3                  16.08                  0               0              0  \n",
       "4                  10.30                  0               0              0  \n",
       "...                  ...                ...             ...            ...  \n",
       "5078340          3749.14                  0               3              1  \n",
       "5078341          1785.27                  2               3              0  \n",
       "5078342          1785.27                  2               3              1  \n",
       "5078343          2154.54                  0               3              1  \n",
       "5078344          5448.55                  0               3              1  \n",
       "\n",
       "[5078345 rows x 10 columns]"
      ]
     },
     "execution_count": 6,
     "metadata": {},
     "output_type": "execute_result"
    }
   ],
   "source": [
    "print(f'Available Edge Features: {df_edges.columns.tolist()}')\n",
    "df_edges"
   ]
  },
  {
   "cell_type": "code",
   "execution_count": 7,
   "metadata": {},
   "outputs": [
    {
     "data": {
      "text/html": [
       "<div>\n",
       "<style scoped>\n",
       "    .dataframe tbody tr th:only-of-type {\n",
       "        vertical-align: middle;\n",
       "    }\n",
       "\n",
       "    .dataframe tbody tr th {\n",
       "        vertical-align: top;\n",
       "    }\n",
       "\n",
       "    .dataframe thead th {\n",
       "        text-align: right;\n",
       "    }\n",
       "</style>\n",
       "<table border=\"1\" class=\"dataframe\">\n",
       "  <thead>\n",
       "    <tr style=\"text-align: right;\">\n",
       "      <th></th>\n",
       "      <th>EdgeID</th>\n",
       "      <th>from_id</th>\n",
       "      <th>to_id</th>\n",
       "      <th>Timestamp</th>\n",
       "      <th>Amount Sent</th>\n",
       "      <th>Sent Currency</th>\n",
       "      <th>Amount Received</th>\n",
       "      <th>Received Currency</th>\n",
       "      <th>Payment Format</th>\n",
       "      <th>Is Laundering</th>\n",
       "    </tr>\n",
       "  </thead>\n",
       "  <tbody>\n",
       "    <tr>\n",
       "      <th>count</th>\n",
       "      <td>5.078345e+06</td>\n",
       "      <td>5.078345e+06</td>\n",
       "      <td>5.078345e+06</td>\n",
       "      <td>5.078345e+06</td>\n",
       "      <td>5.078345e+06</td>\n",
       "      <td>5.078345e+06</td>\n",
       "      <td>5.078345e+06</td>\n",
       "      <td>5.078345e+06</td>\n",
       "      <td>5.078345e+06</td>\n",
       "      <td>5.078345e+06</td>\n",
       "    </tr>\n",
       "    <tr>\n",
       "      <th>mean</th>\n",
       "      <td>2.539172e+06</td>\n",
       "      <td>1.850947e+05</td>\n",
       "      <td>2.077490e+05</td>\n",
       "      <td>3.717782e+05</td>\n",
       "      <td>4.509273e+06</td>\n",
       "      <td>3.529483e+00</td>\n",
       "      <td>5.988726e+06</td>\n",
       "      <td>3.557052e+00</td>\n",
       "      <td>1.971657e+00</td>\n",
       "      <td>1.019427e-03</td>\n",
       "    </tr>\n",
       "    <tr>\n",
       "      <th>std</th>\n",
       "      <td>1.465992e+06</td>\n",
       "      <td>1.275554e+05</td>\n",
       "      <td>1.199767e+05</td>\n",
       "      <td>2.698606e+05</td>\n",
       "      <td>8.697728e+08</td>\n",
       "      <td>4.242403e+00</td>\n",
       "      <td>1.037183e+09</td>\n",
       "      <td>4.256171e+00</td>\n",
       "      <td>1.419516e+00</td>\n",
       "      <td>3.191219e-02</td>\n",
       "    </tr>\n",
       "    <tr>\n",
       "      <th>min</th>\n",
       "      <td>0.000000e+00</td>\n",
       "      <td>0.000000e+00</td>\n",
       "      <td>0.000000e+00</td>\n",
       "      <td>1.000000e+01</td>\n",
       "      <td>1.000000e-06</td>\n",
       "      <td>0.000000e+00</td>\n",
       "      <td>1.000000e-06</td>\n",
       "      <td>0.000000e+00</td>\n",
       "      <td>0.000000e+00</td>\n",
       "      <td>0.000000e+00</td>\n",
       "    </tr>\n",
       "    <tr>\n",
       "      <th>25%</th>\n",
       "      <td>1.269586e+06</td>\n",
       "      <td>7.784900e+04</td>\n",
       "      <td>1.044620e+05</td>\n",
       "      <td>1.027300e+05</td>\n",
       "      <td>1.844800e+02</td>\n",
       "      <td>0.000000e+00</td>\n",
       "      <td>1.833700e+02</td>\n",
       "      <td>0.000000e+00</td>\n",
       "      <td>1.000000e+00</td>\n",
       "      <td>0.000000e+00</td>\n",
       "    </tr>\n",
       "    <tr>\n",
       "      <th>50%</th>\n",
       "      <td>2.539172e+06</td>\n",
       "      <td>1.855390e+05</td>\n",
       "      <td>2.107090e+05</td>\n",
       "      <td>3.897700e+05</td>\n",
       "      <td>1.414540e+03</td>\n",
       "      <td>2.000000e+00</td>\n",
       "      <td>1.411010e+03</td>\n",
       "      <td>2.000000e+00</td>\n",
       "      <td>2.000000e+00</td>\n",
       "      <td>0.000000e+00</td>\n",
       "    </tr>\n",
       "    <tr>\n",
       "      <th>75%</th>\n",
       "      <td>3.808758e+06</td>\n",
       "      <td>2.817550e+05</td>\n",
       "      <td>3.056950e+05</td>\n",
       "      <td>6.163900e+05</td>\n",
       "      <td>1.229784e+04</td>\n",
       "      <td>6.000000e+00</td>\n",
       "      <td>1.234627e+04</td>\n",
       "      <td>6.000000e+00</td>\n",
       "      <td>3.000000e+00</td>\n",
       "      <td>0.000000e+00</td>\n",
       "    </tr>\n",
       "    <tr>\n",
       "      <th>max</th>\n",
       "      <td>5.078344e+06</td>\n",
       "      <td>5.150870e+05</td>\n",
       "      <td>5.150810e+05</td>\n",
       "      <td>1.527490e+06</td>\n",
       "      <td>1.046302e+12</td>\n",
       "      <td>1.400000e+01</td>\n",
       "      <td>1.046302e+12</td>\n",
       "      <td>1.400000e+01</td>\n",
       "      <td>6.000000e+00</td>\n",
       "      <td>1.000000e+00</td>\n",
       "    </tr>\n",
       "  </tbody>\n",
       "</table>\n",
       "</div>"
      ],
      "text/plain": [
       "             EdgeID       from_id         to_id     Timestamp   Amount Sent  \\\n",
       "count  5.078345e+06  5.078345e+06  5.078345e+06  5.078345e+06  5.078345e+06   \n",
       "mean   2.539172e+06  1.850947e+05  2.077490e+05  3.717782e+05  4.509273e+06   \n",
       "std    1.465992e+06  1.275554e+05  1.199767e+05  2.698606e+05  8.697728e+08   \n",
       "min    0.000000e+00  0.000000e+00  0.000000e+00  1.000000e+01  1.000000e-06   \n",
       "25%    1.269586e+06  7.784900e+04  1.044620e+05  1.027300e+05  1.844800e+02   \n",
       "50%    2.539172e+06  1.855390e+05  2.107090e+05  3.897700e+05  1.414540e+03   \n",
       "75%    3.808758e+06  2.817550e+05  3.056950e+05  6.163900e+05  1.229784e+04   \n",
       "max    5.078344e+06  5.150870e+05  5.150810e+05  1.527490e+06  1.046302e+12   \n",
       "\n",
       "       Sent Currency  Amount Received  Received Currency  Payment Format  \\\n",
       "count   5.078345e+06     5.078345e+06       5.078345e+06    5.078345e+06   \n",
       "mean    3.529483e+00     5.988726e+06       3.557052e+00    1.971657e+00   \n",
       "std     4.242403e+00     1.037183e+09       4.256171e+00    1.419516e+00   \n",
       "min     0.000000e+00     1.000000e-06       0.000000e+00    0.000000e+00   \n",
       "25%     0.000000e+00     1.833700e+02       0.000000e+00    1.000000e+00   \n",
       "50%     2.000000e+00     1.411010e+03       2.000000e+00    2.000000e+00   \n",
       "75%     6.000000e+00     1.234627e+04       6.000000e+00    3.000000e+00   \n",
       "max     1.400000e+01     1.046302e+12       1.400000e+01    6.000000e+00   \n",
       "\n",
       "       Is Laundering  \n",
       "count   5.078345e+06  \n",
       "mean    1.019427e-03  \n",
       "std     3.191219e-02  \n",
       "min     0.000000e+00  \n",
       "25%     0.000000e+00  \n",
       "50%     0.000000e+00  \n",
       "75%     0.000000e+00  \n",
       "max     1.000000e+00  "
      ]
     },
     "execution_count": 7,
     "metadata": {},
     "output_type": "execute_result"
    }
   ],
   "source": [
    "df_edges.describe()"
   ]
  },
  {
   "cell_type": "code",
   "execution_count": 8,
   "metadata": {},
   "outputs": [],
   "source": [
    "df_edges['Timestamp'] = df_edges['Timestamp'] - df_edges['Timestamp'].min()"
   ]
  },
  {
   "cell_type": "code",
   "execution_count": 9,
   "metadata": {},
   "outputs": [
    {
     "name": "stdout",
     "output_type": "stream",
     "text": [
      "Illicit ratio = 5177 / 5078345 = 0.10%\n",
      "Number of nodes (holdings doing transcations) = 515088\n",
      "Number of transactions = 5078345\n"
     ]
    }
   ],
   "source": [
    "# Find the maximum node ID by taking the maximum value from 'from_id' and 'to_id' columns and adding 1\n",
    "max_n_id = df_edges.loc[:, ['from_id', 'to_id']].to_numpy().max() + 1\n",
    "\n",
    "# Create a DataFrame for nodes with NodeID and Feature columns initialized with ones\n",
    "df_nodes = pd.DataFrame({'NodeID': np.arange(max_n_id), 'Feature': np.ones(max_n_id)})\n",
    "\n",
    "timestamps = torch.Tensor(df_edges['Timestamp'].to_numpy())\n",
    "y = torch.LongTensor(df_edges['Is Laundering'].to_numpy())\n",
    "\n",
    "print(f\"Illicit ratio = {sum(y)} / {len(y)} = {sum(y) / len(y) * 100:.2f}%\")\n",
    "print(f\"Number of nodes (holdings doing transcations) = {df_nodes.shape[0]}\")\n",
    "print(f\"Number of transactions = {df_edges.shape[0]}\")"
   ]
  },
  {
   "cell_type": "code",
   "execution_count": 1,
   "metadata": {},
   "outputs": [
    {
     "ename": "SyntaxError",
     "evalue": "invalid syntax (1151133521.py, line 3)",
     "output_type": "error",
     "traceback": [
      "\u001b[0;36m  Cell \u001b[0;32mIn[1], line 3\u001b[0;36m\u001b[0m\n\u001b[0;31m    model dc train tren 500000\u001b[0m\n\u001b[0m          ^\u001b[0m\n\u001b[0;31mSyntaxError\u001b[0m\u001b[0;31m:\u001b[0m invalid syntax\n"
     ]
    }
   ],
   "source": [
    "import random\n",
    "df_edges.loc[:, ['from_id']] = random.sample(range(0, 100), df_edges.shape[0]) #, 'to_id']] \n",
    "\n"
   ]
  },
  {
   "cell_type": "code",
   "execution_count": 10,
   "metadata": {},
   "outputs": [
    {
     "name": "stdout",
     "output_type": "stream",
     "text": [
      "Edge features being used: ['Timestamp', 'Amount Received', 'Received Currency', 'Payment Format']\n",
      "Node features being used: ['Feature'] (\"Feature\" is a placeholder feature of all 1s)\n"
     ]
    }
   ],
   "source": [
    "edge_features = ['Timestamp', 'Amount Received', 'Received Currency', 'Payment Format']\n",
    "node_features = ['Feature']\n",
    "\n",
    "print(f'Edge features being used: {edge_features}')\n",
    "print(f'Node features being used: {node_features} (\"Feature\" is a placeholder feature of all 1s)')"
   ]
  },
  {
   "cell_type": "code",
   "execution_count": 11,
   "metadata": {},
   "outputs": [],
   "source": [
    "x = torch.tensor(df_nodes.loc[:, node_features].to_numpy()).float()\n",
    "edge_index = torch.LongTensor(df_edges.loc[:, ['from_id', 'to_id']].to_numpy().T) # (2 x num_edges)\n",
    "edge_attr = torch.tensor(df_edges.loc[:, edge_features].to_numpy()).float() # (num_edges x num_edge_features)"
   ]
  },
  {
   "cell_type": "code",
   "execution_count": 12,
   "metadata": {},
   "outputs": [
    {
     "name": "stdout",
     "output_type": "stream",
     "text": [
      "number of days and transactions in the data: 18 days, 5078345 transactions\n"
     ]
    },
    {
     "name": "stdout",
     "output_type": "stream",
     "text": [
      "Calculate split: [[0, 1, 2, 3, 4, 5], [6, 7], [8, 9, 10, 11, 12, 13, 14, 15, 16, 17]]\n"
     ]
    }
   ],
   "source": [
    "n_days = int(timestamps.max() / (3600 * 24) + 1)\n",
    "n_samples = y.shape[0]\n",
    "print(f'number of days and transactions in the data: {n_days} days, {n_samples} transactions')\n",
    "\n",
    "#data splitting\n",
    "daily_irs, weighted_daily_irs, daily_inds, daily_trans = [], [], [], [] #irs = illicit ratios, inds = indices, trans = transactions\n",
    "for day in range(n_days):\n",
    "    l = day * 24 * 3600\n",
    "    r = (day + 1) * 24 * 3600\n",
    "    day_inds = torch.where((timestamps >= l) & (timestamps < r))[0]\n",
    "    daily_irs.append(y[day_inds].float().mean())\n",
    "    weighted_daily_irs.append(y[day_inds].float().mean() * day_inds.shape[0] / n_samples)\n",
    "    daily_inds.append(day_inds)\n",
    "    daily_trans.append(day_inds.shape[0])\n",
    "\n",
    "split_per = [0.6, 0.2, 0.2]\n",
    "daily_totals = np.array(daily_trans)\n",
    "d_ts = daily_totals\n",
    "I = list(range(len(d_ts)))\n",
    "split_scores = dict()\n",
    "for i,j in itertools.combinations(I, 2):\n",
    "    if j >= i:\n",
    "        split_totals = [d_ts[:i].sum(), d_ts[i:j].sum(), d_ts[j:].sum()]\n",
    "        split_totals_sum = np.sum(split_totals)\n",
    "        split_props = [v/split_totals_sum for v in split_totals]\n",
    "        split_error = [abs(v-t)/t for v,t in zip(split_props, split_per)]\n",
    "        score = max(split_error) #- (split_totals_sum/total) + 1\n",
    "        split_scores[(i,j)] = score\n",
    "    else:\n",
    "        continue\n",
    "i,j = min(split_scores, key=split_scores.get)\n",
    "#split contains a list for each split (train, validation and test) and each list contains the days that are part of the respective split\n",
    "split = [list(range(i)), list(range(i, j)), list(range(j, len(daily_totals)))]\n",
    "print(f'Calculate split: {split}')\n",
    "\n",
    "#Now, we seperate the transactions based on their indices in the timestamp array\n",
    "split_inds = {k: [] for k in range(3)}\n",
    "for i in range(3):\n",
    "    for day in split[i]:\n",
    "        split_inds[i].append(daily_inds[day]) #split_inds contains a list for each split (tr,val,te) which contains the indices of each day seperately\n"
   ]
  },
  {
   "cell_type": "code",
   "execution_count": 13,
   "metadata": {},
   "outputs": [
    {
     "name": "stdout",
     "output_type": "stream",
     "text": [
      "Total train samples: 63.98% || IR: 0.08% || Train days: [0, 1, 2, 3, 4]\n",
      "Total val samples: 19.01% || IR: 0.11% || Val days: [6, 7]\n",
      "Total test samples: 17.01% || IR: 0.19% || Test days: [8, 9, 10, 11, 12]\n"
     ]
    }
   ],
   "source": [
    "tr_inds = torch.cat(split_inds[0])\n",
    "val_inds = torch.cat(split_inds[1])\n",
    "te_inds = torch.cat(split_inds[2])\n",
    "\n",
    "print(f\"Total train samples: {tr_inds.shape[0] / y.shape[0] * 100 :.2f}% || IR: \"\n",
    "        f\"{y[tr_inds].float().mean() * 100 :.2f}% || Train days: {split[0][:5]}\")\n",
    "print(f\"Total val samples: {val_inds.shape[0] / y.shape[0] * 100 :.2f}% || IR: \"\n",
    "    f\"{y[val_inds].float().mean() * 100:.2f}% || Val days: {split[1][:5]}\")\n",
    "print(f\"Total test samples: {te_inds.shape[0] / y.shape[0] * 100 :.2f}% || IR: \"\n",
    "    f\"{y[te_inds].float().mean() * 100:.2f}% || Test days: {split[2][:5]}\")\n",
    "\n",
    "#Creating the final data objects\n",
    "tr_x, val_x, te_x = x, x, x\n",
    "e_tr = tr_inds.numpy()\n",
    "e_val = np.concatenate([tr_inds, val_inds])\n",
    "\n",
    "tr_edge_index,  tr_edge_attr,  tr_y,  tr_edge_times  = edge_index[:,e_tr],  edge_attr[e_tr],  y[e_tr],  timestamps[e_tr]\n",
    "val_edge_index, val_edge_attr, val_y, val_edge_times = edge_index[:,e_val], edge_attr[e_val], y[e_val], timestamps[e_val]\n",
    "te_edge_index,  te_edge_attr,  te_y,  te_edge_times  = edge_index,          edge_attr,        y,        timestamps\n"
   ]
  },
  {
   "cell_type": "code",
   "execution_count": 14,
   "metadata": {},
   "outputs": [],
   "source": [
    "import copy\n",
    "\n",
    "def fake_trans_1_old_1_new(te_edge_index):\n",
    "    edge_index = copy.deepcopy(te_edge_index)\n",
    "\n",
    "    max_id = edge_index.max() + 10000\n",
    "\n",
    "    random_vals = torch.randint(0, edge_index.max(), size=[edge_index.shape[1]])\n",
    "    mask = np.random.random(size=edge_index.shape[1]) > 0.5\n",
    "    edge_index[0, :] += max_id\n",
    "    edge_index[1, :] += max_id\n",
    "    # edge_index[1, mask] = random_vals[mask]\n",
    "\n",
    "    # edge_index[1, ~mask] += max_id\n",
    "    # edge_index[0, ~mask] = random_vals[~mask]\n",
    "\n",
    "    return edge_index"
   ]
  },
  {
   "cell_type": "code",
   "execution_count": 15,
   "metadata": {},
   "outputs": [],
   "source": [
    "new_te_edge_index = fake_trans_1_old_1_new(te_edge_index)"
   ]
  },
  {
   "cell_type": "code",
   "execution_count": 16,
   "metadata": {},
   "outputs": [
    {
     "data": {
      "text/plain": [
       "torch.Size([2, 5078345])"
      ]
     },
     "execution_count": 16,
     "metadata": {},
     "output_type": "execute_result"
    }
   ],
   "source": [
    "te_edge_index.shape"
   ]
  },
  {
   "cell_type": "code",
   "execution_count": 17,
   "metadata": {},
   "outputs": [
    {
     "name": "stdout",
     "output_type": "stream",
     "text": [
      "torch.Size([2, 3248921])\n",
      "torch.Size([2, 4214445])\n",
      "torch.Size([2, 5078345])\n"
     ]
    }
   ],
   "source": [
    "print(edge_index[:,e_tr].shape)\n",
    "print(edge_index[:,e_val].shape)\n",
    "print(edge_index.shape)"
   ]
  },
  {
   "cell_type": "code",
   "execution_count": 18,
   "metadata": {},
   "outputs": [],
   "source": [
    "tr_data = GraphData (x=tr_x,  y=tr_y,  edge_index=tr_edge_index,  edge_attr=tr_edge_attr,  timestamps=tr_edge_times )\n",
    "val_data = GraphData(x=val_x, y=val_y, edge_index=val_edge_index, edge_attr=val_edge_attr, timestamps=val_edge_times)\n",
    "te_data = GraphData (x=te_x,  y=te_y,  edge_index=new_te_edge_index,  edge_attr=te_edge_attr,  timestamps=te_edge_times )\n"
   ]
  },
  {
   "cell_type": "code",
   "execution_count": 19,
   "metadata": {},
   "outputs": [],
   "source": [
    "tr_data.edge_attr[:, :-1], val_data.edge_attr[:, :-1], te_data.edge_attr[:, :-1] = z_norm(tr_data.edge_attr[:, :-1]), z_norm(val_data.edge_attr[:, :-1]), z_norm(te_data.edge_attr[:, :-1])"
   ]
  },
  {
   "cell_type": "code",
   "execution_count": 20,
   "metadata": {},
   "outputs": [],
   "source": [
    "from train_util import AddEgoIds, extract_param, add_arange_ids, get_loaders, evaluate_homo, evaluate_hetero\n",
    "\n",
    "transform = None\n",
    "\n",
    "#add the unique ids to later find the seed edges\n",
    "add_arange_ids([tr_data, val_data, te_data])\n",
    "\n",
    "# tr_loader, val_loader, te_loader = get_loaders(tr_data, val_data, te_data, tr_inds, val_inds, te_inds, transform, args)"
   ]
  },
  {
   "cell_type": "code",
   "execution_count": null,
   "metadata": {},
   "outputs": [],
   "source": []
  }
 ],
 "metadata": {
  "kernelspec": {
   "display_name": "Python 3",
   "language": "python",
   "name": "python3"
  },
  "language_info": {
   "codemirror_mode": {
    "name": "ipython",
    "version": 3
   },
   "file_extension": ".py",
   "mimetype": "text/x-python",
   "name": "python",
   "nbconvert_exporter": "python",
   "pygments_lexer": "ipython3",
   "version": "3.9.18"
  }
 },
 "nbformat": 4,
 "nbformat_minor": 2
}
